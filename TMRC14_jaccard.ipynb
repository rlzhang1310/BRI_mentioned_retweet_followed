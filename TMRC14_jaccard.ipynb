{
 "cells": [
  {
   "cell_type": "code",
   "execution_count": 1,
   "metadata": {},
   "outputs": [],
   "source": [
    "import pandas as pd"
   ]
  },
  {
   "cell_type": "code",
   "execution_count": 2,
   "metadata": {},
   "outputs": [],
   "source": [
    "# user_dict_df = pd.read_csv('~/Coding/buntain/retweet_data/All_user_dict.csv')\n",
    "APAC1_retweet_df = pd.read_csv('~/Coding/buntain/retweet_data/TMRC14_APAC_1.csv')\n",
    "APAC2_retweet_df = pd.read_csv('~/Coding/buntain/retweet_data/TMRC14_APAC_2.csv')\n",
    "APAC3_retweet_df = pd.read_csv('~/Coding/buntain/retweet_data/TMRC15_APAC_3.csv')\n",
    "APAC1_hashtag_df = pd.read_csv('~/Coding/buntain/hashtag_data/TMRC14_APAC_1.csv')\n",
    "APAC2_hashtag_df = pd.read_csv('~/Coding/buntain/hashtag_data/TMRC14_APAC_2.csv')\n",
    "APAC3_hashtag_df = pd.read_csv('~/Coding/buntain/hashtag_data/TMRC15_APAC_3.csv')"
   ]
  },
  {
   "cell_type": "code",
   "execution_count": 14,
   "metadata": {},
   "outputs": [],
   "source": [
    "APAC1_retweet_set = set(APAC1_retweet_df[\"userid\"])\n",
    "APAC2_retweet_set = set(APAC2_retweet_df[\"userid\"])\n",
    "APAC3_retweet_set = set(APAC3_retweet_df[\"userid\"])\n",
    "\n",
    "APAC1_hashtag_set = set(APAC1_hashtag_df[\"hashtag\"])\n",
    "APAC2_hashtag_set = set(APAC2_hashtag_df[\"hashtag\"])\n",
    "APAC3_hashtag_set = set(APAC3_hashtag_df[\"hashtag\"])\n"
   ]
  },
  {
   "cell_type": "code",
   "execution_count": 13,
   "metadata": {},
   "outputs": [],
   "source": [
    "def jaccard_index(set1, set2):\n",
    "    intersection = set1.intersection(set2)\n",
    "    union = set1.union(set2)\n",
    "    jaccard_score = len(intersection) / len(union)\n",
    "    return jaccard_score"
   ]
  },
  {
   "cell_type": "code",
   "execution_count": 17,
   "metadata": {},
   "outputs": [
    {
     "data": {
      "text/plain": [
       "0.00036413290851160674"
      ]
     },
     "execution_count": 17,
     "metadata": {},
     "output_type": "execute_result"
    }
   ],
   "source": [
    "jaccard_index(APAC1_retweet_set, APAC2_retweet_set)"
   ]
  },
  {
   "cell_type": "code",
   "execution_count": 18,
   "metadata": {},
   "outputs": [
    {
     "data": {
      "text/plain": [
       "0.0009096923585841879"
      ]
     },
     "execution_count": 18,
     "metadata": {},
     "output_type": "execute_result"
    }
   ],
   "source": [
    "jaccard_index(APAC1_retweet_set, APAC3_retweet_set)"
   ]
  },
  {
   "cell_type": "code",
   "execution_count": 19,
   "metadata": {},
   "outputs": [
    {
     "data": {
      "text/plain": [
       "0.0085769736430226"
      ]
     },
     "execution_count": 19,
     "metadata": {},
     "output_type": "execute_result"
    }
   ],
   "source": [
    "jaccard_index(APAC2_retweet_set, APAC3_retweet_set)"
   ]
  },
  {
   "cell_type": "code",
   "execution_count": 20,
   "metadata": {},
   "outputs": [
    {
     "data": {
      "text/plain": [
       "0.00857100635436678"
      ]
     },
     "execution_count": 20,
     "metadata": {},
     "output_type": "execute_result"
    }
   ],
   "source": [
    "jaccard_index(APAC1_hashtag_set, APAC2_hashtag_set)"
   ]
  },
  {
   "cell_type": "code",
   "execution_count": 28,
   "metadata": {},
   "outputs": [
    {
     "data": {
      "text/plain": [
       "0.01670340851280312"
      ]
     },
     "execution_count": 28,
     "metadata": {},
     "output_type": "execute_result"
    }
   ],
   "source": [
    "jaccard_index(APAC1_hashtag_set, APAC3_hashtag_set)"
   ]
  },
  {
   "cell_type": "code",
   "execution_count": 22,
   "metadata": {},
   "outputs": [
    {
     "data": {
      "text/plain": [
       "0.044871932498872835"
      ]
     },
     "execution_count": 22,
     "metadata": {},
     "output_type": "execute_result"
    }
   ],
   "source": [
    "jaccard_index(APAC2_hashtag_set, APAC3_hashtag_set)"
   ]
  }
 ],
 "metadata": {
  "kernelspec": {
   "display_name": "Python 3",
   "language": "python",
   "name": "python3"
  },
  "language_info": {
   "codemirror_mode": {
    "name": "ipython",
    "version": 3
   },
   "file_extension": ".py",
   "mimetype": "text/x-python",
   "name": "python",
   "nbconvert_exporter": "python",
   "pygments_lexer": "ipython3",
   "version": "3.12.3"
  }
 },
 "nbformat": 4,
 "nbformat_minor": 2
}
