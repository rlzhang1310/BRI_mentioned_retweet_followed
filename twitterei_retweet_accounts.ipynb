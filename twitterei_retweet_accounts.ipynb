{
 "cells": [
  {
   "cell_type": "code",
   "execution_count": 1,
   "metadata": {},
   "outputs": [],
   "source": [
    "import os\n",
    "import logging\n",
    "import boto3\n",
    "import zipfile\n",
    "import json\n",
    "import io\n",
    "import pandas as pd\n",
    "import matplotlib.pyplot as plt\n",
    "from collections import defaultdict\n",
    "from io import BytesIO"
   ]
  },
  {
   "cell_type": "code",
   "execution_count": 2,
   "metadata": {},
   "outputs": [],
   "source": [
    "s3_host = 'https://obj.umiacs.umd.edu'\n",
    "access_key_id = \"xxxxx\"\n",
    "secret_access_key = \"xxxxx\"\n",
    "\n",
    "s3 = boto3.client('s3', \n",
    "                  endpoint_url=s3_host, \n",
    "                  aws_access_key_id=access_key_id, \n",
    "                  aws_secret_access_key=secret_access_key)\n",
    "\n",
    "bucket = 'twitter.ei'\n"
   ]
  },
  {
   "cell_type": "code",
   "execution_count": 3,
   "metadata": {},
   "outputs": [],
   "source": [
    "def process(file):\n",
    "    zip_object = s3.get_object(Bucket=bucket, Key=file)\n",
    "    zip_contents = zip_object['Body'].read()\n",
    "    zip_file = zipfile.ZipFile(io.BytesIO(zip_contents), 'r')\n",
    "    for file_info in zip_file.infolist():\n",
    "        with zip_file.open(file_info) as csv_file:\n",
    "            df = None\n",
    "            try:\n",
    "                if df == None:\n",
    "                    df = pd.read_csv(csv_file)\n",
    "                else:\n",
    "                    df = pd.concat([df, pd.read_csv(csv_file)], axis=0)\n",
    "            except:\n",
    "                print(f\"{csv_file.filename} is not a csv file\")\n",
    "    return df\n"
   ]
  },
  {
   "cell_type": "code",
   "execution_count": 4,
   "metadata": {},
   "outputs": [],
   "source": [
    "## used to construct userid, twitterid dictionary\n",
    "## not actually needed for retweet\n",
    "\n",
    "def add_to_userdict(row, user_dict):\n",
    "    userid = row['userid']\n",
    "    twitterid = row['user_screen_name']\n",
    "    ## since user_mentions only has userid, we cannot obtain the twitterids with user_mentions in twitterei\n",
    "    if userid not in user_dict:\n",
    "        user_dict[userid] = [twitterid]\n",
    "    elif twitterid not in user_dict[userid]:\n",
    "        print(f\"{twitterid} has multiple twitterids\")\n",
    "        user_dict[userid].append(twitterid)\n"
   ]
  },
  {
   "cell_type": "code",
   "execution_count": 11,
   "metadata": {},
   "outputs": [],
   "source": [
    "## this method should turn the string back into a list\n",
    "def clean (str):\n",
    "    str = str[1:-1]\n",
    "    return str.split(',')\n",
    "\n",
    "def count_mentioned_users(row, mentioned_dict):\n",
    "    user_mentions = row['user_mentions']\n",
    "    if not pd.isna(user_mentions):\n",
    "        if not isinstance(user_mentions, list):\n",
    "            user_mentions = clean(user_mentions)\n",
    "        for user in user_mentions:\n",
    "            mentioned_dict[user] += 1"
   ]
  },
  {
   "cell_type": "code",
   "execution_count": 12,
   "metadata": {},
   "outputs": [
    {
     "name": "stdout",
     "output_type": "stream",
     "text": [
      "2019_08/china_082019_1/china_082019_1_tweets_csv_unhashed.zip\n"
     ]
    },
    {
     "name": "stderr",
     "output_type": "stream",
     "text": [
      "/var/folders/r4/sgr1zrxx0038xwsxj6n3k8900000gn/T/ipykernel_66062/130882326.py:10: DtypeWarning: Columns (6,30) have mixed types. Specify dtype option on import or set low_memory=False.\n",
      "  df = pd.read_csv(csv_file)\n"
     ]
    },
    {
     "name": "stdout",
     "output_type": "stream",
     "text": [
      "2019_08/china_082019_2/china_082019_2_tweets_csv_unhashed.zip\n"
     ]
    },
    {
     "name": "stderr",
     "output_type": "stream",
     "text": [
      "/var/folders/r4/sgr1zrxx0038xwsxj6n3k8900000gn/T/ipykernel_66062/130882326.py:10: DtypeWarning: Columns (30) have mixed types. Specify dtype option on import or set low_memory=False.\n",
      "  df = pd.read_csv(csv_file)\n"
     ]
    },
    {
     "name": "stdout",
     "output_type": "stream",
     "text": [
      "2019_08/china_082019_3/china_082019_3_tweets_csv_unhashed.zip\n"
     ]
    },
    {
     "name": "stderr",
     "output_type": "stream",
     "text": [
      "/var/folders/r4/sgr1zrxx0038xwsxj6n3k8900000gn/T/ipykernel_66062/130882326.py:10: DtypeWarning: Columns (30) have mixed types. Specify dtype option on import or set low_memory=False.\n",
      "  df = pd.read_csv(csv_file)\n",
      "/var/folders/r4/sgr1zrxx0038xwsxj6n3k8900000gn/T/ipykernel_66062/130882326.py:10: DtypeWarning: Columns (30) have mixed types. Specify dtype option on import or set low_memory=False.\n",
      "  df = pd.read_csv(csv_file)\n"
     ]
    },
    {
     "name": "stdout",
     "output_type": "stream",
     "text": [
      "2020_05/china_052020/china_052020_tweets_csv_unhashed.zip\n",
      "2020_09/thailand_092020/thailand_092020_tweets_csv_unhashed.zip\n"
     ]
    }
   ],
   "source": [
    "folder_prefix_lst = [\"2019_08/china_082019_1/china_082019_1_tweets_csv_unhashed.zip\",\n",
    "                     \"2019_08/china_082019_2/china_082019_2_tweets_csv_unhashed.zip\",\n",
    "                     \"2019_08/china_082019_3/china_082019_3_tweets_csv_unhashed.zip\",\n",
    "                     \"2020_05/china_052020/china_052020_tweets_csv_unhashed.zip\", \n",
    "                     \"2020_09/thailand_092020/thailand_092020_tweets_csv_unhashed.zip\"\n",
    "                     ]\n",
    "\n",
    "retweet_lst = []\n",
    "mentioned_lst = []\n",
    "user_dict = dict()\n",
    "pd.set_option('display.float_format', lambda x: '%.0f' % x)\n",
    "\n",
    "for folder in folder_prefix_lst:\n",
    "    mentioned_dict = defaultdict(int)\n",
    "    print(folder)\n",
    "    data = process(folder)\n",
    "    data.apply(lambda row: add_to_userdict(row, user_dict), axis = 1)\n",
    "    data.apply(lambda row: count_mentioned_users(row, mentioned_dict), axis = 1)\n",
    "    retweet_counts = data['retweet_userid'].value_counts()\n",
    "    retweet_counts.index.astype(str)\n",
    "    retweet_lst.append(retweet_counts)\n",
    "    mentioned_lst.append(mentioned_dict)\n"
   ]
  },
  {
   "cell_type": "code",
   "execution_count": 16,
   "metadata": {},
   "outputs": [],
   "source": [
    "title = [\"china_082019_1\", \"china_082019_2\", \"china_082019_3\", \"china_052020\", \"thailand_092020\"]\n",
    "i = 0\n",
    "for df in retweet_lst:\n",
    "    df.index = df.index.astype(int)\n",
    "\n",
    "    df.to_csv(f\"~/Coding/buntain/retweet_data/twitterrei_{title[i]}.csv\")\n",
    "    i += 1\n",
    "i = 0\n",
    "for dict in mentioned_lst:\n",
    "    del dict['']\n",
    "    df = pd.DataFrame(dict.items(), columns = ['mentioned_userid', 'count'])\n",
    "    df.to_csv(f\"~/Coding/buntain/mentioned_data/twitterrei_{title[i]}.csv\", index=False)\n",
    "    i += 1"
   ]
  },
  {
   "cell_type": "code",
   "execution_count": null,
   "metadata": {},
   "outputs": [],
   "source": [
    "twitterid_df = pd.DataFrame(user_dict.items(), columns = [\"userid\", \"twitterid\"])\n",
    "# twitterid_df\n",
    "twitterid_df.to_csv(\"~/Coding/buntain/retweet_data/twitterei_user_dict.csv\", index=False)"
   ]
  }
 ],
 "metadata": {
  "kernelspec": {
   "display_name": "Python 3",
   "language": "python",
   "name": "python3"
  },
  "language_info": {
   "codemirror_mode": {
    "name": "ipython",
    "version": 3
   },
   "file_extension": ".py",
   "mimetype": "text/x-python",
   "name": "python",
   "nbconvert_exporter": "python",
   "pygments_lexer": "ipython3",
   "version": "3.12.3"
  },
  "orig_nbformat": 4
 },
 "nbformat": 4,
 "nbformat_minor": 2
}
